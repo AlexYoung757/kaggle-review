{
 "cells": [
  {
   "cell_type": "code",
   "execution_count": 1,
   "metadata": {
    "collapsed": true
   },
   "outputs": [],
   "source": [
    "import tensorflow as tf\n",
    "import pandas as pd\n",
    "import numpy as np\n",
    "import pickle"
   ]
  },
  {
   "cell_type": "code",
   "execution_count": 53,
   "metadata": {
    "collapsed": false
   },
   "outputs": [],
   "source": [
    "split = pickle.load(open('data/split.p','rb'))\n",
    "m = 0"
   ]
  },
  {
   "cell_type": "code",
   "execution_count": 54,
   "metadata": {
    "collapsed": false
   },
   "outputs": [],
   "source": [
    "tr,te = split[m]"
   ]
  },
  {
   "cell_type": "code",
   "execution_count": 55,
   "metadata": {
    "collapsed": true
   },
   "outputs": [],
   "source": [
    "train = pd.read_csv('../../../../input/training_variants')"
   ]
  },
  {
   "cell_type": "code",
   "execution_count": 56,
   "metadata": {
    "collapsed": false
   },
   "outputs": [],
   "source": [
    "tr,te = train.loc[tr,:],train.loc[te,:]"
   ]
  },
  {
   "cell_type": "code",
   "execution_count": 57,
   "metadata": {
    "collapsed": true
   },
   "outputs": [],
   "source": [
    "def cross_entropy(y,yp):\n",
    "    return -np.log(yp[int(y)])\n",
    "def ce(y,yp):\n",
    "    yp[yp>0.99999] = 0.99999\n",
    "    yp[yp<1e-5] = 1e-5\n",
    "    return np.mean(-np.log(yp[range(yp.shape[0]),y.astype(int)]))"
   ]
  },
  {
   "cell_type": "code",
   "execution_count": 58,
   "metadata": {
    "collapsed": false
   },
   "outputs": [
    {
     "name": "stdout",
     "output_type": "stream",
     "text": [
      "(834, 15) (46, 15)\n",
      "(815, 15) (19, 15)\n",
      "0.9210678778256651 1.4226142710038496\n",
      "0.932493994697\n"
     ]
    }
   ],
   "source": [
    "#sub = pd.read_csv('backup/91_88_87_86_74/cv_%d.csv'%m)\n",
    "sub = pd.read_csv('backup/93_86_87_85_73.7/cv_%d.csv'%m)\n",
    "cols = ['class%d'%i for i in range(1,10)]\n",
    "y = sub['real'].values\n",
    "ID = sub['ID'].values\n",
    "sub['loss'] = sub.apply(lambda row: cross_entropy(row['real'],[row[i] for i in cols]) , axis=1)\n",
    "sub = pd.merge(sub,te,on='ID',how='inner')\n",
    "print(sub.shape,sub[sub['loss']>3.4].shape)\n",
    "mask = sub.Gene.isin(tr.Gene)\n",
    "s1,s2 = sub[mask],sub[~mask]\n",
    "print(s1.shape,s2.shape)\n",
    "print(s1.loss.mean(),s2.loss.mean())\n",
    "y1 = sub[cols].values\n",
    "print(ce(y,y1))"
   ]
  },
  {
   "cell_type": "code",
   "execution_count": 59,
   "metadata": {
    "collapsed": false
   },
   "outputs": [
    {
     "name": "stdout",
     "output_type": "stream",
     "text": [
      "(834, 15) (52, 15)\n",
      "(815, 15) (19, 15)\n",
      "0.9020437285298741 1.4780963869478294\n",
      "0.91516723034\n"
     ]
    }
   ],
   "source": [
    "sub = pd.read_csv('backup/91_87_86_84_73.9/cv_%d.csv'%m)\n",
    "cols = ['class%d'%i for i in range(1,10)]\n",
    "y = sub['real'].values\n",
    "ID = sub['ID'].values\n",
    "sub['loss'] = sub.apply(lambda row: cross_entropy(row['real'],[row[i] for i in cols]) , axis=1)\n",
    "sub = pd.merge(sub,te,on='ID',how='inner')\n",
    "print(sub.shape,sub[sub['loss']>3.4].shape)\n",
    "mask = sub.Gene.isin(tr.Gene)\n",
    "s1,s2 = sub[mask],sub[~mask]\n",
    "print(s1.shape,s2.shape)\n",
    "print(s1.loss.mean(),s2.loss.mean())\n",
    "y2 = sub[cols].values\n",
    "print(ce(y,y2))"
   ]
  },
  {
   "cell_type": "code",
   "execution_count": 61,
   "metadata": {
    "collapsed": false
   },
   "outputs": [
    {
     "name": "stdout",
     "output_type": "stream",
     "text": [
      "(827, 15)\n",
      "(807, 15) (20, 15)\n",
      "1.010880645703844 1.633709216959976\n",
      "1.02594300535\n"
     ]
    }
   ],
   "source": [
    "sub = pd.read_csv('backup/107_110_105_102_102/cnn_pred_cv3_sub.csv')\n",
    "cols = ['class%d'%i for i in range(1,10)]\n",
    "sub['real'] = y\n",
    "sub['ID'] = ID\n",
    "sub['loss'] = sub.apply(lambda row: cross_entropy(row['real'],[row[i] for i in cols]) , axis=1)\n",
    "sub = pd.merge(sub,te,on='ID',how='inner')\n",
    "print(sub.shape)\n",
    "mask = sub.Gene.isin(tr.Gene)\n",
    "s1,s2 = sub[mask],sub[~mask]\n",
    "print(s1.shape,s2.shape)\n",
    "print(s1.loss.mean(),s2.loss.mean())\n",
    "y2 = sub[cols].values\n",
    "print(ce(y,y2))"
   ]
  },
  {
   "cell_type": "code",
   "execution_count": 60,
   "metadata": {
    "collapsed": false
   },
   "outputs": [
    {
     "name": "stdout",
     "output_type": "stream",
     "text": [
      "0 0.91516723034\n",
      "1 0.911679648692\n",
      "2 0.909704797317\n",
      "3 0.90898807083\n",
      "4 0.909378117948\n",
      "5 0.910784303066\n",
      "6 0.91315760835\n",
      "7 0.91648207445\n",
      "8 0.92077256112\n",
      "9 0.926078175035\n",
      "10 0.932493994697\n"
     ]
    }
   ],
   "source": [
    "for i in range(11):\n",
    "    yt = (y1*i+y2*(10-i))*0.1\n",
    "    #yt = (y1**i*y2**(10-i))**0.1\n",
    "    print(i,ce(y,yt))"
   ]
  },
  {
   "cell_type": "code",
   "execution_count": null,
   "metadata": {
    "collapsed": false
   },
   "outputs": [],
   "source": []
  },
  {
   "cell_type": "code",
   "execution_count": null,
   "metadata": {
    "collapsed": true
   },
   "outputs": [],
   "source": []
  },
  {
   "cell_type": "code",
   "execution_count": null,
   "metadata": {
    "collapsed": false
   },
   "outputs": [],
   "source": []
  },
  {
   "cell_type": "code",
   "execution_count": null,
   "metadata": {
    "collapsed": false
   },
   "outputs": [],
   "source": []
  },
  {
   "cell_type": "code",
   "execution_count": null,
   "metadata": {
    "collapsed": false
   },
   "outputs": [],
   "source": []
  },
  {
   "cell_type": "code",
   "execution_count": 29,
   "metadata": {
    "collapsed": false
   },
   "outputs": [],
   "source": []
  },
  {
   "cell_type": "code",
   "execution_count": null,
   "metadata": {
    "collapsed": true
   },
   "outputs": [],
   "source": []
  }
 ],
 "metadata": {
  "anaconda-cloud": {},
  "kernelspec": {
   "display_name": "Python [conda root]",
   "language": "python",
   "name": "conda-root-py"
  },
  "language_info": {
   "codemirror_mode": {
    "name": "ipython",
    "version": 3
   },
   "file_extension": ".py",
   "mimetype": "text/x-python",
   "name": "python",
   "nbconvert_exporter": "python",
   "pygments_lexer": "ipython3",
   "version": "3.5.2"
  }
 },
 "nbformat": 4,
 "nbformat_minor": 1
}
