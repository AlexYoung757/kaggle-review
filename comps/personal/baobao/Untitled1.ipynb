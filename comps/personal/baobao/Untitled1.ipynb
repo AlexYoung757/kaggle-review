{
 "cells": [
  {
   "cell_type": "code",
   "execution_count": 1,
   "metadata": {
    "collapsed": true
   },
   "outputs": [],
   "source": [
    "import tensorflow as tf\n",
    "import pandas as pd\n",
    "import numpy as np\n",
    "import pickle"
   ]
  },
  {
   "cell_type": "code",
   "execution_count": 8,
   "metadata": {
    "collapsed": true
   },
   "outputs": [],
   "source": [
    "def get_yp(path,m):\n",
    "    sub = pd.read_csv('%s/cv_%d.csv'%(path,m))\n",
    "    cols = ['class%d'%i for i in range(1,10)]\n",
    "    y1 = sub[cols].values\n",
    "    y = sub['real'].values\n",
    "    print(path,ce(y,y1))\n",
    "    return y1,y"
   ]
  },
  {
   "cell_type": "code",
   "execution_count": 9,
   "metadata": {
    "collapsed": true
   },
   "outputs": [],
   "source": [
    "def ce(y,yp):\n",
    "    yp[yp>0.99999] = 0.99999\n",
    "    yp[yp<1e-5] = 1e-5\n",
    "    return np.mean(-np.log(yp[range(yp.shape[0]),y.astype(int)]))"
   ]
  },
  {
   "cell_type": "code",
   "execution_count": 12,
   "metadata": {
    "collapsed": true
   },
   "outputs": [],
   "source": [
    "def blend(p1,p2):\n",
    "    for i in range(4):\n",
    "        print(\"\\nfold\",i)\n",
    "        y1,y = get_yp(p1,i)\n",
    "        y2,y = get_yp(p2,i)\n",
    "        for j in range(11):\n",
    "            yt = (y1*j+y2*(10-j))*0.1\n",
    "            print(j,ce(y,yt))"
   ]
  },
  {
   "cell_type": "code",
   "execution_count": 13,
   "metadata": {
    "collapsed": false
   },
   "outputs": [
    {
     "name": "stdout",
     "output_type": "stream",
     "text": [
      "\n",
      "fold 0\n",
      "backup/91_87_86_84_73.9 0.91516723034\n",
      "backup/91_88_87_86_74 0.920989438604\n",
      "0 0.920989438604\n",
      "1 0.915460444103\n",
      "2 0.911198572916\n",
      "3 0.908056205814\n",
      "4 0.905945936226\n",
      "5 0.904823078616\n",
      "6 0.904678460712\n",
      "7 0.905538039224\n",
      "8 0.90746959798\n",
      "9 0.910601140591\n",
      "10 0.91516723034\n",
      "\n",
      "fold 1\n",
      "backup/91_87_86_84_73.9 0.876663061094\n",
      "backup/91_88_87_86_74 0.879903879941\n",
      "0 0.879903879941\n",
      "1 0.87484782302\n",
      "2 0.871043481565\n",
      "3 0.868336698441\n",
      "4 0.866631890254\n",
      "5 0.865873968179\n",
      "6 0.866040091067\n",
      "7 0.867137396534\n",
      "8 0.869206073849\n",
      "9 0.872329975667\n",
      "10 0.876663061094\n",
      "\n",
      "fold 2\n",
      "backup/91_87_86_84_73.9 0.861891626369\n",
      "backup/91_88_87_86_74 0.871667428162\n",
      "0 0.871667428162\n",
      "1 0.865574834419\n",
      "2 0.860925434212\n",
      "3 0.857492073338\n",
      "4 0.855141250802\n",
      "5 0.853794333686\n",
      "6 0.853411275167\n",
      "7 0.853984218127\n",
      "8 0.855537412463\n",
      "9 0.858133660555\n",
      "10 0.861891626369\n",
      "\n",
      "fold 3\n",
      "backup/91_87_86_84_73.9 0.841587496121\n",
      "backup/91_88_87_86_74 0.864170895052\n",
      "0 0.864170895052\n",
      "1 0.857227664127\n",
      "2 0.851693375268\n",
      "3 0.847298434297\n",
      "4 0.843890941936\n",
      "5 0.841380938837\n",
      "6 0.839718043264\n",
      "7 0.83888204094\n",
      "8 0.838880566054\n",
      "9 0.83975327924\n",
      "10 0.841587496121\n"
     ]
    }
   ],
   "source": [
    "blend('backup/91_87_86_84_73.9', 'backup/91_88_87_86_74')"
   ]
  },
  {
   "cell_type": "code",
   "execution_count": 17,
   "metadata": {
    "collapsed": false
   },
   "outputs": [
    {
     "name": "stdout",
     "output_type": "stream",
     "text": [
      "\n",
      "fold 0\n",
      "backup/91_87_86_84_73.9 0.91516723034\n",
      "backup/92_88_86_85_75 0.925062012034\n",
      "0 0.925062012034\n",
      "1 0.917566020466\n",
      "2 0.912019874849\n",
      "3 0.907996753047\n",
      "4 0.905286764568\n",
      "5 0.903786077294\n",
      "6 0.903458165234\n",
      "7 0.904320678702\n",
      "8 0.906446442459\n",
      "9 0.909978253236\n",
      "10 0.91516723034\n",
      "\n",
      "fold 1\n",
      "backup/91_87_86_84_73.9 0.876663061094\n",
      "backup/92_88_86_85_75 0.883652966628\n",
      "0 0.883652966628\n",
      "1 0.878138046454\n",
      "2 0.873937954246\n",
      "3 0.870855180915\n",
      "4 0.86877820468\n",
      "5 0.867647547953\n",
      "6 0.867441455876\n",
      "7 0.868170920905\n",
      "8 0.869881200992\n",
      "9 0.872660705399\n",
      "10 0.876663061094\n",
      "\n",
      "fold 2\n",
      "backup/91_87_86_84_73.9 0.861891626369\n",
      "backup/92_88_86_85_75 0.864061089844\n",
      "0 0.864061089844\n",
      "1 0.858994654455\n",
      "2 0.855322109881\n",
      "3 0.852802595679\n",
      "4 0.851299105313\n",
      "5 0.850734082369\n",
      "6 0.85107061684\n",
      "7 0.852304893822\n",
      "8 0.854465565885\n",
      "9 0.85761996226\n",
      "10 0.861891626369\n",
      "\n",
      "fold 3\n",
      "backup/91_87_86_84_73.9 0.841587496121\n",
      "backup/92_88_86_85_75 0.855057375861\n",
      "0 0.855057375861\n",
      "1 0.849655692293\n",
      "2 0.845313455606\n",
      "3 0.841903453243\n",
      "4 0.839350480322\n",
      "5 0.837613678199\n",
      "6 0.836678768749\n",
      "7 0.836555620031\n",
      "8 0.837279869618\n",
      "9 0.838919227253\n",
      "10 0.841587496121\n"
     ]
    }
   ],
   "source": [
    "blend('backup/91_87_86_84_73.9', 'backup/92_88_86_85_75')"
   ]
  },
  {
   "cell_type": "code",
   "execution_count": 14,
   "metadata": {
    "collapsed": true
   },
   "outputs": [],
   "source": [
    "tr = pd.read_csv('../../../../input/training_variants')\n",
    "te = pd.read_csv('../../../../input/stage2_test_variants.csv')"
   ]
  },
  {
   "cell_type": "code",
   "execution_count": 15,
   "metadata": {
    "collapsed": false
   },
   "outputs": [
    {
     "name": "stdout",
     "output_type": "stream",
     "text": [
      "(498, 3) 0.5050709939148073\n"
     ]
    }
   ],
   "source": [
    "mask = te.Gene.isin(tr.Gene)\n",
    "print(te[mask].shape, te[mask].shape[0]*1.0/te.shape[0])"
   ]
  },
  {
   "cell_type": "code",
   "execution_count": 16,
   "metadata": {
    "collapsed": false
   },
   "outputs": [
    {
     "data": {
      "text/plain": [
       "0        1\n",
       "4        5\n",
       "5        6\n",
       "9       10\n",
       "11      12\n",
       "12      13\n",
       "13      14\n",
       "14      15\n",
       "15      16\n",
       "17      18\n",
       "18      19\n",
       "20      21\n",
       "23      24\n",
       "25      26\n",
       "28      29\n",
       "32      33\n",
       "36      37\n",
       "39      40\n",
       "40      41\n",
       "42      43\n",
       "43      44\n",
       "44      45\n",
       "46      47\n",
       "48      49\n",
       "49      50\n",
       "51      52\n",
       "53      54\n",
       "56      57\n",
       "57      58\n",
       "59      60\n",
       "      ... \n",
       "923    924\n",
       "927    928\n",
       "929    930\n",
       "931    932\n",
       "933    934\n",
       "934    935\n",
       "935    936\n",
       "938    939\n",
       "939    940\n",
       "941    942\n",
       "942    943\n",
       "945    946\n",
       "946    947\n",
       "947    948\n",
       "951    952\n",
       "952    953\n",
       "954    955\n",
       "955    956\n",
       "956    957\n",
       "958    959\n",
       "961    962\n",
       "964    965\n",
       "965    966\n",
       "966    967\n",
       "970    971\n",
       "971    972\n",
       "972    973\n",
       "976    977\n",
       "978    979\n",
       "983    984\n",
       "Name: ID, dtype: int64"
      ]
     },
     "execution_count": 16,
     "metadata": {},
     "output_type": "execute_result"
    }
   ],
   "source": [
    "te[mask]['ID']"
   ]
  },
  {
   "cell_type": "code",
   "execution_count": null,
   "metadata": {
    "collapsed": true
   },
   "outputs": [],
   "source": []
  }
 ],
 "metadata": {
  "kernelspec": {
   "display_name": "Python [conda root]",
   "language": "python",
   "name": "conda-root-py"
  },
  "language_info": {
   "codemirror_mode": {
    "name": "ipython",
    "version": 3
   },
   "file_extension": ".py",
   "mimetype": "text/x-python",
   "name": "python",
   "nbconvert_exporter": "python",
   "pygments_lexer": "ipython3",
   "version": "3.5.2"
  }
 },
 "nbformat": 4,
 "nbformat_minor": 1
}
